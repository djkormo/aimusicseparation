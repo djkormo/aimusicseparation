{
 "cells": [
  {
   "cell_type": "code",
   "execution_count": 11,
   "id": "90313102-60ee-4703-88a9-e1a4f3c3dbde",
   "metadata": {},
   "outputs": [
    {
     "name": "stdout",
     "output_type": "stream",
     "text": [
      "/tmp/tmpex4xj4xy\n"
     ]
    },
    {
     "name": "stderr",
     "output_type": "stream",
     "text": [
      "100%|████████████████████████████████████████████████████████████████████████| 180.0/180.0 [00:59<00:00,  3.02seconds/s]\n"
     ]
    },
    {
     "name": "stdout",
     "output_type": "stream",
     "text": [
      "/tmp/tmpsyuy0tsk\n"
     ]
    }
   ],
   "source": [
    "import sys\n",
    "from pathlib import Path\n",
    "import torch as th\n",
    "import torchaudio as ta\n",
    "from demucs.separate import load_track, encode_mp3\n",
    "from demucs.audio import AudioFile, convert_audio_channels\n",
    "from demucs.pretrained import is_pretrained, load_pretrained\n",
    "from demucs.utils import apply_model, load_model\n",
    "from typing import List, Optional\n",
    "from pydantic import BaseModel\n",
    "import tempfile\n",
    "from zipfile import ZipFile\n",
    "\n",
    "class DemucsConfiguration(BaseModel):\n",
    "    tracks: List[Path] = []\n",
    "    name: str = \"demucs_quantized\"\n",
    "    verbose: bool = True\n",
    "    out: Path = Path('separated')\n",
    "    models: Path = Path('models')\n",
    "    device: str = \"cuda\" if th.cuda.is_available() else \"cpu\"\n",
    "    shifts: int = 0\n",
    "    overlap: float = 0.25\n",
    "    split: bool = True\n",
    "    float32: bool = True\n",
    "    int16: bool = False\n",
    "    mp3: bool = True\n",
    "    mp3bitrate: int = 320\n",
    "\n",
    "\n",
    "class MusicService:\n",
    "    def __init__(self):\n",
    "        self.config = DemucsConfiguration()\n",
    "        model_path = self.config.models / (self.config.name + \".th\")\n",
    "\n",
    "        if model_path.is_file():\n",
    "            self.model = load_model(model_path)\n",
    "        else:\n",
    "            if is_pretrained(self.config.name):\n",
    "                self.model = load_pretrained(self.config.name)\n",
    "            else:\n",
    "                raise ValueError(f'No pre-trained model {self.config.name}')\n",
    "\n",
    "        self.model.to(self.config.device)\n",
    "\n",
    "\n",
    "    def process(self, stream, bitrate: int = 320):\n",
    "        \n",
    "        with tempfile.NamedTemporaryFile() as tmpfile:\n",
    "            print(tmpfile.name)\n",
    "            tmpfile.write(stream)\n",
    "            wav = load_track(tmpfile.name, self.config.device, self.model.audio_channels, self.model.samplerate)\n",
    "    \n",
    "            ref = wav.mean(0)\n",
    "            wav = (wav - ref.mean()) / ref.std()\n",
    "            sources = apply_model(self.model, wav, shifts=self.config.shifts, split=self.config.split,\n",
    "                                  overlap=self.config.overlap, progress=True)\n",
    "            sources = sources * ref.std() + ref.mean()\n",
    "    \n",
    "            with tempfile.TemporaryDirectory() as tmpdirname, ZipFile(f\"{tmpdirname}.zip\",'w') as zipfile:\n",
    "                print(tmpdirname)\n",
    "                for source, name in zip(sources, self.model.sources):\n",
    "                    source = source / max(1.01 * source.abs().max(), 1)\n",
    "                    if self.config.mp3 or not self.config.float32:\n",
    "                        source = (source * 2**15).clamp_(-2**15, 2**15 - 1).short()\n",
    "                    source = source.cpu()\n",
    "                    stem = f\"{tmpdirname}/{name}\"\n",
    "                    if self.config.mp3:\n",
    "                        stem = f\"{stem}.mp3\"\n",
    "                        arcname=f\"{name}.mp3\"\n",
    "                        encode_mp3(source, stem,\n",
    "                                   bitrate=self.config.mp3bitrate,\n",
    "                                   samplerate=self.model.samplerate,\n",
    "                                   channels=self.model.audio_channels,\n",
    "                                   verbose=self.config.verbose)\n",
    "                    else:\n",
    "                        stem = f\"{stem}.wav\"\n",
    "                        arcname=f\"{name}.mp3\"\n",
    "                        ta.save(stem, source, sample_rate=self.model.samplerate)\n",
    "                        \n",
    "                    zipfile.write(stem,arcname)\n",
    "             \n",
    "            with open(f\"{tmpdirname}.zip\",'rb') as f:\n",
    "                return f.read()\n",
    "            \n",
    "        \n",
    "ms = MusicService()\n",
    "res=ms.process(open('Caballero.mp3','rb').read())"
   ]
  },
  {
   "cell_type": "code",
   "execution_count": 13,
   "id": "7eafa2a9-da48-487e-bef1-81692472c634",
   "metadata": {},
   "outputs": [],
   "source": [
    "import io\n",
    "\n",
    "f = io.BytesIO(res)"
   ]
  },
  {
   "cell_type": "code",
   "execution_count": 12,
   "id": "b3c6ecb5-1d88-4ecf-92c1-1c58f583d2c8",
   "metadata": {},
   "outputs": [],
   "source": [
    "with open('test.zip','wb') as f:\n",
    "    f.write(res)"
   ]
  }
 ],
 "metadata": {
  "kernelspec": {
   "display_name": "Python 3 (ipykernel)",
   "language": "python",
   "name": "python3"
  },
  "language_info": {
   "codemirror_mode": {
    "name": "ipython",
    "version": 3
   },
   "file_extension": ".py",
   "mimetype": "text/x-python",
   "name": "python",
   "nbconvert_exporter": "python",
   "pygments_lexer": "ipython3",
   "version": "3.7.10"
  }
 },
 "nbformat": 4,
 "nbformat_minor": 5
}
